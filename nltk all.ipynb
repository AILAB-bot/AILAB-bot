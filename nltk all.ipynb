{
 "cells": [
  {
   "cell_type": "code",
   "execution_count": 2,
   "id": "b65f1377-1fe7-4c56-9cbd-0487fb8ceba6",
   "metadata": {},
   "outputs": [
    {
     "name": "stdout",
     "output_type": "stream",
     "text": [
      "Original Text:\n",
      "\n",
      "Natural language processing (NLP) is a field of artificial intelligence\n",
      "that focuses on the interaction between computers and humans through natural language.\n",
      "The ultimate goal of NLP is to enable computers to understand, interpret, and generate human language.\n",
      "\n",
      "\n",
      "Tokens:\n",
      "['Natural', 'language', 'processing', '(', 'NLP', ')', 'is', 'a', 'field', 'of', 'artificial', 'intelligence', 'that', 'focuses', 'on', 'the', 'interaction', 'between', 'computers', 'and', 'humans', 'through', 'natural', 'language', '.', 'The', 'ultimate', 'goal', 'of', 'NLP', 'is', 'to', 'enable', 'computers', 'to', 'understand', ',', 'interpret', ',', 'and', 'generate', 'human', 'language', '.']\n",
      "\n",
      "Tokens after Filtration:\n",
      "['Natural', 'language', 'processing', 'NLP', 'is', 'a', 'field', 'of', 'artificial', 'intelligence', 'that', 'focuses', 'on', 'the', 'interaction', 'between', 'computers', 'and', 'humans', 'through', 'natural', 'language', 'The', 'ultimate', 'goal', 'of', 'NLP', 'is', 'to', 'enable', 'computers', 'to', 'understand', 'interpret', 'and', 'generate', 'human', 'language']\n",
      "\n",
      "Tokens after Script Handling:\n",
      "['natural', 'language', 'processing', 'nlp', 'is', 'a', 'field', 'of', 'artificial', 'intelligence', 'that', 'focuses', 'on', 'the', 'interaction', 'between', 'computers', 'and', 'humans', 'through', 'natural', 'language', 'the', 'ultimate', 'goal', 'of', 'nlp', 'is', 'to', 'enable', 'computers', 'to', 'understand', 'interpret', 'and', 'generate', 'human', 'language']\n",
      "\n",
      "Tokens after Validation:\n",
      "['natural', 'language', 'processing', 'nlp', 'is', 'field', 'of', 'artificial', 'intelligence', 'that', 'focuses', 'on', 'the', 'interaction', 'between', 'computers', 'and', 'humans', 'through', 'natural', 'language', 'the', 'ultimate', 'goal', 'of', 'nlp', 'is', 'to', 'enable', 'computers', 'to', 'understand', 'interpret', 'and', 'generate', 'human', 'language']\n",
      "\n",
      "Tokens after Stop Word Removal:\n",
      "['natural', 'language', 'processing', 'nlp', 'field', 'artificial', 'intelligence', 'focuses', 'interaction', 'computers', 'humans', 'natural', 'language', 'ultimate', 'goal', 'nlp', 'enable', 'computers', 'understand', 'interpret', 'generate', 'human', 'language']\n",
      "\n",
      "Stemmed Tokens:\n",
      "['natur', 'languag', 'process', 'nlp', 'field', 'artifici', 'intellig', 'focus', 'interact', 'comput', 'human', 'natur', 'languag', 'ultim', 'goal', 'nlp', 'enabl', 'comput', 'understand', 'interpret', 'gener', 'human', 'languag']\n"
     ]
    },
    {
     "name": "stderr",
     "output_type": "stream",
     "text": [
      "[nltk_data] Downloading package punkt to\n",
      "[nltk_data]     C:\\Users\\ASWANTH\\AppData\\Roaming\\nltk_data...\n",
      "[nltk_data]   Package punkt is already up-to-date!\n",
      "[nltk_data] Downloading package stopwords to\n",
      "[nltk_data]     C:\\Users\\ASWANTH\\AppData\\Roaming\\nltk_data...\n",
      "[nltk_data]   Package stopwords is already up-to-date!\n"
     ]
    }
   ],
   "source": [
    "import nltk\n",
    "from nltk.corpus import stopwords\n",
    "from nltk.stem import PorterStemmer\n",
    "from nltk.tokenize import word_tokenize\n",
    "# Download NLTK resources if not already installed\n",
    "nltk.download('punkt')\n",
    "nltk.download('stopwords')\n",
    "# Sample text\n",
    "text = \"\"\"\n",
    "Natural language processing (NLP) is a field of artificial intelligence\n",
    "that focuses on the interaction between computers and humans through natural language.\n",
    "The ultimate goal of NLP is to enable computers to understand, interpret, and generate human language.\n",
    "\"\"\"\n",
    "# Tokenization\n",
    "tokens = word_tokenize(text)\n",
    "# Filtration: Remove non-alphanumeric tokens (punctuation, etc.)\n",
    "tokens_filtr = [word for word in tokens if word.isalnum()]\n",
    "# Script Handling: Convert to lowercase\n",
    "tokens_script = [word.lower() for word in tokens_filtr]\n",
    "# Validation: Check if tokens are valid words (e.g., length greater than 1)\n",
    "tokens_valid = [word for word in tokens_script if len(word) > 1]\n",
    "# Stop Word Removal\n",
    "stop_words = set(stopwords.words('english'))\n",
    "tokens_no_stopwords = [word for word in tokens_valid if word not in stop_words]\n",
    "# Stemming\n",
    "stemmer = PorterStemmer()\n",
    "stemmed_tokens = [stemmer.stem(word) for word in tokens_no_stopwords]\n",
    "# Display results\n",
    "print(\"Original Text:\")\n",
    "print(text)\n",
    "print(\"\\nTokens:\")\n",
    "print(tokens)\n",
    "print(\"\\nTokens after Filtration:\")\n",
    "print(tokens_filtr)\n",
    "print(\"\\nTokens after Script Handling:\")\n",
    "print(tokens_script)\n",
    "print(\"\\nTokens after Validation:\")\n",
    "print(tokens_valid)\n",
    "print(\"\\nTokens after Stop Word Removal:\")\n",
    "print(tokens_no_stopwords)\n",
    "print(\"\\nStemmed Tokens:\")\n",
    "print(stemmed_tokens)"
   ]
  },
  {
   "cell_type": "code",
   "execution_count": null,
   "id": "60f35d5b-e030-4110-a7e7-d2119a91a56e",
   "metadata": {},
   "outputs": [],
   "source": []
  }
 ],
 "metadata": {
  "kernelspec": {
   "display_name": "Python 3 (ipykernel)",
   "language": "python",
   "name": "python3"
  },
  "language_info": {
   "codemirror_mode": {
    "name": "ipython",
    "version": 3
   },
   "file_extension": ".py",
   "mimetype": "text/x-python",
   "name": "python",
   "nbconvert_exporter": "python",
   "pygments_lexer": "ipython3",
   "version": "3.12.7"
  }
 },
 "nbformat": 4,
 "nbformat_minor": 5
}
