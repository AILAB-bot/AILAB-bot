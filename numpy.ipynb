{
 "cells": [
  {
   "cell_type": "code",
   "execution_count": 9,
   "id": "000f26d6-9cb4-48d9-801a-8bb01dcbda44",
   "metadata": {},
   "outputs": [
    {
     "name": "stdout",
     "output_type": "stream",
     "text": [
      "Array: [1 2 3 4 5]\n",
      "Sum: 15\n",
      "Mean: 3.0\n",
      "Square: [ 1  4  9 16 25]\n"
     ]
    }
   ],
   "source": [
    "import numpy as np\n",
    "\n",
    "array = np.array([1, 2, 3, 4, 5])\n",
    "array_sum = np.sum(array)\n",
    "array_mean = np.mean(array)\n",
    "array_square = np.square(array)\n",
    "\n",
    "print(f\"Array: {array}\")\n",
    "print(f\"Sum: {array_sum}\")\n",
    "print(f\"Mean: {array_mean}\")\n",
    "print(f\"Square: {array_square}\")\n"
   ]
  },
  {
   "cell_type": "code",
   "execution_count": null,
   "id": "7d0a47d8-6aaa-4f0d-be82-c5427f7e8587",
   "metadata": {},
   "outputs": [],
   "source": []
  }
 ],
 "metadata": {
  "kernelspec": {
   "display_name": "Python 3 (ipykernel)",
   "language": "python",
   "name": "python3"
  },
  "language_info": {
   "codemirror_mode": {
    "name": "ipython",
    "version": 3
   },
   "file_extension": ".py",
   "mimetype": "text/x-python",
   "name": "python",
   "nbconvert_exporter": "python",
   "pygments_lexer": "ipython3",
   "version": "3.12.7"
  }
 },
 "nbformat": 4,
 "nbformat_minor": 5
}
