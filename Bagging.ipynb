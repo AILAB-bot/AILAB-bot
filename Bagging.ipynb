{
 "cells": [
  {
   "cell_type": "code",
   "execution_count": 22,
   "id": "fecd4581-86d9-47f4-ba33-3c2ec34bbfae",
   "metadata": {},
   "outputs": [
    {
     "name": "stdout",
     "output_type": "stream",
     "text": [
      "Logistic Regression Accuracy: 0.9590643274853801\n",
      "Bagging Classifier Accuracy: 0.9532163742690059\n",
      "Boosting Classifier Accuracy: 0.9824561403508771\n",
      "Voting Classifier (Ensemble) Accuracy: 0.9590643274853801\n"
     ]
    }
   ],
   "source": [
    "from sklearn.impute import SimpleImputer\n",
    "from sklearn.preprocessing import LabelEncoder\n",
    "from sklearn.model_selection import train_test_split\n",
    "from sklearn.linear_model import LogisticRegression\n",
    "from sklearn.ensemble import BaggingClassifier, AdaBoostClassifier, VotingClassifier\n",
    "from sklearn.tree import DecisionTreeClassifier\n",
    "from sklearn.neighbors import KNeighborsClassifier\n",
    "from sklearn.metrics import accuracy_score\n",
    "import pandas as pd\n",
    "\n",
    "# Load the dataset (fixing the file path issue)\n",
    "data = pd.read_csv(r\"C:\\Users\\ASWANTH\\Downloads\\New folder (2)\\data.csv\")\n",
    "\n",
    "# Drop 'Unnamed: 32' column explicitly if it contains all missing values\n",
    "data = data.drop(columns=['Unnamed: 32'], axis=1)\n",
    "\n",
    "# Handle missing values\n",
    "imputer = SimpleImputer(strategy='most_frequent')\n",
    "data_imputed = pd.DataFrame(imputer.fit_transform(data), columns=data.columns)\n",
    "\n",
    "# Encode categorical target (assuming 'diagnosis' is the target column)\n",
    "label_encoder = LabelEncoder()\n",
    "data_imputed['diagnosis'] = label_encoder.fit_transform(data_imputed['diagnosis'])\n",
    "\n",
    "# Separate features and target\n",
    "X = data_imputed.drop('diagnosis', axis=1)\n",
    "y = data_imputed['diagnosis']\n",
    "\n",
    "# Split the dataset into training and testing sets\n",
    "X_train, X_test, y_train, y_test = train_test_split(X, y, test_size=0.3, random_state=42)\n",
    "\n",
    "# Logistic Regression\n",
    "log_reg_clf = LogisticRegression(max_iter=1000, random_state=42)\n",
    "log_reg_clf.fit(X_train, y_train)\n",
    "log_reg_pred = log_reg_clf.predict(X_test)\n",
    "log_reg_accuracy = accuracy_score(y_test, log_reg_pred)\n",
    "\n",
    "# Bagging Classifier\n",
    "bagging_clf = BaggingClassifier(estimator=DecisionTreeClassifier(), n_estimators=10, random_state=42)\n",
    "bagging_clf.fit(X_train, y_train)\n",
    "bagging_pred = bagging_clf.predict(X_test)\n",
    "bagging_accuracy = accuracy_score(y_test, bagging_pred)\n",
    "\n",
    "# Boosting Classifier (AdaBoost)\n",
    "boosting_clf = AdaBoostClassifier(estimator=DecisionTreeClassifier(max_depth=1), n_estimators=50, algorithm='SAMME', random_state=42)\n",
    "boosting_clf.fit(X_train, y_train)\n",
    "boosting_pred = boosting_clf.predict(X_test)\n",
    "boosting_accuracy = accuracy_score(y_test, boosting_pred)\n",
    "\n",
    "# Voting Classifier\n",
    "knn_clf = KNeighborsClassifier()\n",
    "voting_clf = VotingClassifier(\n",
    "    estimators=[('lr', log_reg_clf), ('dt', DecisionTreeClassifier()), ('knn', knn_clf)],\n",
    "    voting='hard'\n",
    ")\n",
    "voting_clf.fit(X_train, y_train)\n",
    "voting_pred = voting_clf.predict(X_test)\n",
    "voting_accuracy = accuracy_score(y_test, voting_pred)\n",
    "\n",
    "# Print accuracy scores\n",
    "print(\"Logistic Regression Accuracy:\", log_reg_accuracy)\n",
    "print(\"Bagging Classifier Accuracy:\", bagging_accuracy)\n",
    "print(\"Boosting Classifier Accuracy:\", boosting_accuracy)\n",
    "print(\"Voting Classifier (Ensemble) Accuracy:\", voting_accuracy)\n"
   ]
  },
  {
   "cell_type": "code",
   "execution_count": null,
   "id": "0ccd1246-cc6b-45a3-b258-9fe9e6bedd87",
   "metadata": {},
   "outputs": [],
   "source": []
  }
 ],
 "metadata": {
  "kernelspec": {
   "display_name": "Python 3 (ipykernel)",
   "language": "python",
   "name": "python3"
  },
  "language_info": {
   "codemirror_mode": {
    "name": "ipython",
    "version": 3
   },
   "file_extension": ".py",
   "mimetype": "text/x-python",
   "name": "python",
   "nbconvert_exporter": "python",
   "pygments_lexer": "ipython3",
   "version": "3.12.7"
  }
 },
 "nbformat": 4,
 "nbformat_minor": 5
}
