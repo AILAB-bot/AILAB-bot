{
 "cells": [
  {
   "cell_type": "code",
   "execution_count": 1,
   "id": "6fd3ff1c-61fd-4733-bebc-a05121f9d664",
   "metadata": {},
   "outputs": [
    {
     "name": "stdout",
     "output_type": "stream",
     "text": [
      "Concatenated String: Hello World\n",
      "Sliced String 1: Python\n",
      "Sliced String 2: Programmin\n"
     ]
    }
   ],
   "source": [
    "# String concatenation\n",
    "str1 = \"Hello\"\n",
    "str2 = \"World\"\n",
    "concatenated_str = str1 + \" \" + str2\n",
    "print(\"Concatenated String:\", concatenated_str)\n",
    "\n",
    "# String slicing\n",
    "text = \"Python Programming\"\n",
    "sliced_str1 = text[0:6]  # Slicing from index 0 to 5\n",
    "sliced_str2 = text[-11:-1]  # Slicing from 11th last to 1st last character\n",
    "print(\"Sliced String 1:\", sliced_str1)\n",
    "print(\"Sliced String 2:\", sliced_str2)\n"
   ]
  },
  {
   "cell_type": "code",
   "execution_count": null,
   "id": "fad38ed6-c3fd-4e56-9a0b-11fe2f07f6bc",
   "metadata": {},
   "outputs": [],
   "source": []
  }
 ],
 "metadata": {
  "kernelspec": {
   "display_name": "Python 3 (ipykernel)",
   "language": "python",
   "name": "python3"
  },
  "language_info": {
   "codemirror_mode": {
    "name": "ipython",
    "version": 3
   },
   "file_extension": ".py",
   "mimetype": "text/x-python",
   "name": "python",
   "nbconvert_exporter": "python",
   "pygments_lexer": "ipython3",
   "version": "3.12.7"
  }
 },
 "nbformat": 4,
 "nbformat_minor": 5
}
