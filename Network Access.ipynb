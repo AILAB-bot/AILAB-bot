{
 "cells": [
  {
   "cell_type": "code",
   "execution_count": 1,
   "id": "07a444bb-a76f-47c6-82d6-8bf0f5247291",
   "metadata": {},
   "outputs": [
    {
     "name": "stdout",
     "output_type": "stream",
     "text": [
      "Requirement already satisfied: scapy in c:\\users\\aswanth\\anaconda3\\lib\\site-packages (2.6.1)\n",
      "Requirement already satisfied: requests in c:\\users\\aswanth\\anaconda3\\lib\\site-packages (2.32.3)\n",
      "Requirement already satisfied: charset-normalizer<4,>=2 in c:\\users\\aswanth\\anaconda3\\lib\\site-packages (from requests) (3.3.2)\n",
      "Requirement already satisfied: idna<4,>=2.5 in c:\\users\\aswanth\\anaconda3\\lib\\site-packages (from requests) (3.7)\n",
      "Requirement already satisfied: urllib3<3,>=1.21.1 in c:\\users\\aswanth\\anaconda3\\lib\\site-packages (from requests) (2.2.3)\n",
      "Requirement already satisfied: certifi>=2017.4.17 in c:\\users\\aswanth\\anaconda3\\lib\\site-packages (from requests) (2024.8.30)\n"
     ]
    }
   ],
   "source": [
    "!pip install scapy requests\n"
   ]
  },
  {
   "cell_type": "code",
   "execution_count": 3,
   "id": "367f5806-85f7-4ad7-8b40-8175fae037c3",
   "metadata": {},
   "outputs": [
    {
     "name": "stdout",
     "output_type": "stream",
     "text": [
      "[*] Starting IP monitoring on Wi-Fi...\n",
      "[INFO] Source IP: 104.208.16.91, Destination IP: 192.168.1.39\n",
      "[INFO] IP is clean: 104.208.16.91\n",
      "[ALERT] VirusTotal flagged this IP as malicious: 192.168.1.39 (12 detected malicious URLs)\n",
      "[INFO] Source IP: 192.168.1.39, Destination IP: 104.208.16.91\n",
      "[ALERT] VirusTotal flagged this IP as malicious: 192.168.1.39 (12 detected malicious URLs)\n",
      "[INFO] IP is clean: 104.208.16.91\n",
      "[INFO] Source IP: 192.168.1.39, Destination IP: 8.8.8.8\n",
      "[ALERT] VirusTotal flagged this IP as malicious: 192.168.1.39 (12 detected malicious URLs)\n",
      "[ALERT] VirusTotal flagged this IP as malicious: 8.8.8.8 (100 detected malicious URLs)\n",
      "[INFO] Source IP: 20.195.84.16, Destination IP: 192.168.1.39\n",
      "[INFO] IP is clean: 20.195.84.16\n",
      "Error checking IP with VirusTotal: Expecting value: line 1 column 1 (char 0)\n",
      "[INFO] Source IP: 8.8.8.8, Destination IP: 192.168.1.39\n",
      "[ALERT] VirusTotal flagged this IP as malicious: 8.8.8.8 (100 detected malicious URLs)\n",
      "Error checking IP with VirusTotal: Expecting value: line 1 column 1 (char 0)\n",
      "[INFO] Source IP: 192.168.1.39, Destination IP: 74.125.34.46\n"
     ]
    }
   ],
   "source": [
    "from scapy.all import sniff, IP\n",
    "import requests\n",
    "\n",
    "# Your VirusTotal API key\n",
    "API_KEY = '2399d639231bd6ff55ffd4282ee47b57f5e55d53e89342faa66e51504f480574'\n",
    "\n",
    "# VirusTotal API base URL for IP address reports\n",
    "VT_URL = \"https://www.virustotal.com/vtapi/v2/ip-address/report\"\n",
    "\n",
    "# Function to check if an IP address is malicious using VirusTotal\n",
    "def check_malicious_ip(ip):\n",
    "    params = {'apikey': API_KEY, 'ip': ip}\n",
    "    try:\n",
    "        # Send request to VirusTotal API\n",
    "        response = requests.get(VT_URL, params=params)\n",
    "        result = response.json()\n",
    "        \n",
    "        if result.get('response_code') == 1:  # IP found in VirusTotal\n",
    "            positives = len(result.get('detected_urls', []))  # Detected malicious URLs for this IP\n",
    "            if positives > 0:\n",
    "                print(f\"[ALERT] VirusTotal flagged this IP as malicious: {ip} ({positives} detected malicious URLs)\")\n",
    "            else:\n",
    "                print(f\"[INFO] IP is clean: {ip}\")\n",
    "        else:\n",
    "            print(f\"[INFO] IP not found in VirusTotal database: {ip}\")\n",
    "    except Exception as e:\n",
    "        print(f\"Error checking IP with VirusTotal: {e}\")\n",
    "\n",
    "# Function to handle each packet captured\n",
    "def packet_handler(packet):\n",
    "    if packet.haslayer(IP):  # Check if the packet has an IP layer\n",
    "        src_ip = packet[IP].src\n",
    "        dst_ip = packet[IP].dst\n",
    "        print(f\"[INFO] Source IP: {src_ip}, Destination IP: {dst_ip}\")\n",
    "        \n",
    "        # Check if the source and destination IPs are malicious\n",
    "        check_malicious_ip(src_ip)\n",
    "        check_malicious_ip(dst_ip)\n",
    "\n",
    "# Start sniffing packets\n",
    "def start_sniffing(interface=\"Wi-Fi\"):\n",
    "    print(f\"[*] Starting IP monitoring on {interface}...\")\n",
    "    sniff(iface=interface, prn=packet_handler, store=False)\n",
    "\n",
    "if __name__ == \"__main__\":\n",
    "    start_sniffing(interface=\"Wi-Fi\")\n"
   ]
  },
  {
   "cell_type": "code",
   "execution_count": null,
   "id": "44ce1692-98e5-4d94-93f4-65272d2e3b05",
   "metadata": {},
   "outputs": [],
   "source": []
  }
 ],
 "metadata": {
  "kernelspec": {
   "display_name": "Python 3 (ipykernel)",
   "language": "python",
   "name": "python3"
  },
  "language_info": {
   "codemirror_mode": {
    "name": "ipython",
    "version": 3
   },
   "file_extension": ".py",
   "mimetype": "text/x-python",
   "name": "python",
   "nbconvert_exporter": "python",
   "pygments_lexer": "ipython3",
   "version": "3.12.7"
  }
 },
 "nbformat": 4,
 "nbformat_minor": 5
}
